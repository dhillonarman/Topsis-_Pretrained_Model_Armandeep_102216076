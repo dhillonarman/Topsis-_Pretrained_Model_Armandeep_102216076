{
  "nbformat": 4,
  "nbformat_minor": 0,
  "metadata": {
    "colab": {
      "provenance": [],
      "authorship_tag": "ABX9TyPGo2o5waWzXCJwEqY23fq3",
      "include_colab_link": true
    },
    "kernelspec": {
      "name": "python3",
      "display_name": "Python 3"
    },
    "language_info": {
      "name": "python"
    }
  },
  "cells": [
    {
      "cell_type": "markdown",
      "metadata": {
        "id": "view-in-github",
        "colab_type": "text"
      },
      "source": [
        "<a href=\"https://colab.research.google.com/github/dhillonarman/Topsis-_Pretrained_Model_Armandeep_102216076/blob/main/102216076_topsis_pretrainedmodel_textgeneration.ipynb\" target=\"_parent\"><img src=\"https://colab.research.google.com/assets/colab-badge.svg\" alt=\"Open In Colab\"/></a>"
      ]
    },
    {
      "cell_type": "code",
      "source": [
        "import numpy as np\n",
        "import pandas as pd\n",
        "import matplotlib.pyplot as plt\n",
        "import torch\n",
        "import time\n",
        "from math import exp\n",
        "\n",
        "from datasets import load_dataset\n",
        "from transformers import AutoModelForCausalLM, AutoTokenizer\n",
        "\n",
        "def compute_perplexity(model, tokenizer, texts):\n",
        "    \"\"\"Compute perplexity for causal models.\"\"\"\n",
        "    model.eval()\n",
        "    losses = []\n",
        "    with torch.no_grad():\n",
        "        for text in texts:\n",
        "            if len(text.strip()) == 0:\n",
        "                continue\n",
        "            encodings = tokenizer(text, return_tensors=\"pt\", truncation=True, max_length=512)\n",
        "            input_ids = encodings.input_ids\n",
        "            outputs = model(input_ids, labels=input_ids)\n",
        "            loss = outputs.loss\n",
        "            losses.append(loss.item())\n",
        "    return exp(np.mean(losses)) if losses else float('inf')\n",
        "\n",
        "def compute_diversity(generated_texts):\n",
        "    \"\"\"Diversity: unique tokens ratio.\"\"\"\n",
        "    all_tokens = [word for text in generated_texts for word in text.split()]\n",
        "    return len(set(all_tokens)) / (len(all_tokens) + 1e-5)\n",
        "\n",
        "dataset = load_dataset(\"wikitext\", \"wikitext-2-raw-v1\", split=\"test\")\n",
        "eval_texts = dataset[\"text\"][:100]\n",
        "\n",
        "prompt_text = \"Once upon a time,\"\n",
        "\n",
        "gen_kwargs_causal = {\n",
        "    \"max_length\": 50,\n",
        "    \"do_sample\": True,\n",
        "    \"num_return_sequences\": 1,\n",
        "    \"no_repeat_ngram_size\": 2\n",
        "}\n",
        "\n",
        "gen_kwargs_xlnet = {\n",
        "    \"max_length\": 50,\n",
        "    \"top_k\": 50,\n",
        "    \"top_p\": 0.95,\n",
        "    \"temperature\": 0.7,\n",
        "    \"num_return_sequences\": 1,\n",
        "    \"no_repeat_ngram_size\": 3,\n",
        "    \"do_sample\": True\n",
        "}\n",
        "\n",
        "models = {\n",
        "    \"GPT-2\": {\"type\": \"causal\", \"model_name\": \"gpt2\"},\n",
        "    \"XLNet\": {\"type\": \"causal\", \"model_name\": \"xlnet-base-cased\"},\n",
        "    \"Bloom\": {\"type\": \"causal\", \"model_name\": \"bigscience/bloom-560m\"}\n",
        "}\n",
        "\n",
        "metrics = {}\n",
        "num_generations = 5\n",
        "\n",
        "for model_name, info in models.items():\n",
        "    print(f\"\\nEvaluating {model_name}...\")\n",
        "    model = AutoModelForCausalLM.from_pretrained(info[\"model_name\"], trust_remote_code=True)\n",
        "    tokenizer = AutoTokenizer.from_pretrained(info[\"model_name\"])\n",
        "\n",
        "    generated_texts, gen_times = [], []\n",
        "\n",
        "    for i in range(num_generations):\n",
        "        start = time.time()\n",
        "        input_ids = tokenizer(prompt_text, return_tensors=\"pt\").input_ids\n",
        "        output = model.generate(input_ids, **(gen_kwargs_xlnet if model_name == \"XLNet\" else gen_kwargs_causal))\n",
        "        gen_text = tokenizer.decode(output[0], skip_special_tokens=True)\n",
        "        elapsed = time.time() - start\n",
        "\n",
        "        gen_times.append(elapsed)\n",
        "        generated_texts.append(gen_text)\n",
        "        print(f\"Run {i+1}: {gen_text}\")\n",
        "\n",
        "    avg_inference_time = np.mean(gen_times)\n",
        "    ppl = compute_perplexity(model, tokenizer, generated_texts)\n",
        "    diversity = compute_diversity(generated_texts)\n",
        "\n",
        "    metrics[model_name] = [ppl, diversity, avg_inference_time]\n",
        "\n",
        "data = np.array(list(metrics.values()))\n",
        "\n",
        "data = np.where(np.isnan(data), np.nanmean(data, axis=0, keepdims=True), data)\n",
        "\n",
        "weights = np.array([0.3, 0.4, 0.3])\n",
        "impacts = np.array([\"-\", \"+\", \"-\"])\n",
        "\n",
        "norm_data = data / np.sqrt((data**2).sum(axis=0))\n",
        "weighted_data = norm_data * weights\n",
        "\n",
        "ideal_best = np.where(impacts == \"+\", weighted_data.max(axis=0), weighted_data.min(axis=0))\n",
        "ideal_worst = np.where(impacts == \"+\", weighted_data.min(axis=0), weighted_data.max(axis=0))\n",
        "\n",
        "dist_best = np.sqrt(((weighted_data - ideal_best) ** 2).sum(axis=1))\n",
        "dist_worst = np.sqrt(((weighted_data - ideal_worst) ** 2).sum(axis=1))\n",
        "\n",
        "topsis_scores = dist_worst / (dist_best + dist_worst)\n",
        "\n",
        "results_df = pd.DataFrame({\n",
        "    'Model': list(metrics.keys()),\n",
        "    'Perplexity': data[:, 0],\n",
        "    'Diversity': data[:, 1],\n",
        "    'Inference Time (s)': data[:, 2],\n",
        "    'TOPSIS Score': topsis_scores\n",
        "})\n",
        "\n",
        "results_df[\"Rank\"] = results_df[\"TOPSIS Score\"].rank(ascending=False, method=\"dense\").astype(int)\n",
        "\n",
        "print(\"\\nEvaluation Results:\")\n",
        "print(results_df)\n",
        "\n",
        "results_df.to_csv(\"topsis_results.csv\", index=False)\n",
        "print(\"\\nResults saved to 'topsis_results.csv'.\")\n",
        "\n",
        "plt.figure(figsize=(8, 5))\n",
        "plt.bar(results_df['Model'], results_df['TOPSIS Score'], color=['blue', 'red', 'green'])\n",
        "plt.xlabel(\"Models\")\n",
        "plt.ylabel(\"TOPSIS Score\")\n",
        "plt.title(\"TOPSIS Ranking of Text Generation Models\")\n",
        "plt.show()\n"
      ],
      "metadata": {
        "colab": {
          "base_uri": "https://localhost:8080/",
          "height": 1000
        },
        "id": "WJ8DYu1qg_8t",
        "outputId": "53044c4a-1522-4de0-973e-4c38ecc07f90"
      },
      "execution_count": 19,
      "outputs": [
        {
          "output_type": "stream",
          "name": "stdout",
          "text": [
            "\n",
            "Evaluating GPT-2...\n"
          ]
        },
        {
          "output_type": "stream",
          "name": "stderr",
          "text": [
            "The attention mask and the pad token id were not set. As a consequence, you may observe unexpected behavior. Please pass your input's `attention_mask` to obtain reliable results.\n",
            "Setting `pad_token_id` to `eos_token_id`:50256 for open-end generation.\n",
            "The attention mask and the pad token id were not set. As a consequence, you may observe unexpected behavior. Please pass your input's `attention_mask` to obtain reliable results.\n",
            "Setting `pad_token_id` to `eos_token_id`:50256 for open-end generation.\n"
          ]
        },
        {
          "output_type": "stream",
          "name": "stdout",
          "text": [
            "Run 1: Once upon a time, I had only felt a little of a thrill on the idea of using my father as an informant. A little over a decade ago, his father worked at the Drug Enforcement Administration, after his wife, the doctor in chief,\n"
          ]
        },
        {
          "output_type": "stream",
          "name": "stderr",
          "text": [
            "The attention mask and the pad token id were not set. As a consequence, you may observe unexpected behavior. Please pass your input's `attention_mask` to obtain reliable results.\n",
            "Setting `pad_token_id` to `eos_token_id`:50256 for open-end generation.\n"
          ]
        },
        {
          "output_type": "stream",
          "name": "stdout",
          "text": [
            "Run 2: Once upon a time, they may look like this, but there's nothing much. This is not real science. There's no \"science\" at all. In the abstract. I'll tell you everything else. How do we know that the earth\n"
          ]
        },
        {
          "output_type": "stream",
          "name": "stderr",
          "text": [
            "The attention mask and the pad token id were not set. As a consequence, you may observe unexpected behavior. Please pass your input's `attention_mask` to obtain reliable results.\n",
            "Setting `pad_token_id` to `eos_token_id`:50256 for open-end generation.\n"
          ]
        },
        {
          "output_type": "stream",
          "name": "stdout",
          "text": [
            "Run 3: Once upon a time, you would be a child of Satan, or not at all of them, but for a young man of yours like me and your whole company. You have been a disciple of the devil, and there are many things to be\n"
          ]
        },
        {
          "output_type": "stream",
          "name": "stderr",
          "text": [
            "The attention mask and the pad token id were not set. As a consequence, you may observe unexpected behavior. Please pass your input's `attention_mask` to obtain reliable results.\n",
            "Setting `pad_token_id` to `eos_token_id`:50256 for open-end generation.\n"
          ]
        },
        {
          "output_type": "stream",
          "name": "stdout",
          "text": [
            "Run 4: Once upon a time, when we were about twenty hundred and sixty-five years old, these white things took hold of the heart of man. That which we might call the light of life, the divine light which gives up hope, or the universal\n",
            "Run 5: Once upon a time, when such an event was not expected, we were given a second chance... we are free to do what is best for our good as long as our rights are respected and our ideas are supported. -Dr. Alberts\n",
            "\n",
            "Evaluating XLNet...\n",
            "Run 1: Once upon a time,--- -- to to to or to to a to to  to to from to or from to to an to to cause to to in or to from from to from in to to the to or\n",
            "Run 2: Once upon a time,--- --... -  -.- — -, - that - and - such-- that---- I-- First-\n",
            "Run 3: Once upon a time,--- --.--, - .- , . -. . and . it, , it, it-- it, and , forth-\n",
            "Run 4: Once upon a time, should or should or or should should or seam or seam whether or or or seam at seam or or no seam or anything or seam press seam or whether or seam seam seam to seam seam or press seam seam, seam\n",
            "Run 5: Once upon a time,--- --.-- and -  - to- .-  the - what-- to - from what- th what- to what- from to-\n",
            "\n",
            "Evaluating Bloom...\n",
            "Run 1: Once upon a time, we got the chance to meet someone.\n",
            "I see.\n",
            "That's right!\n",
            "- I'm sorry.\n",
            "Come on!\n",
            "What the hell are you doing?\n",
            "It's your day.\n",
            "Get some sleep,\n",
            "I promise.\n",
            "- Are you OK?\n",
            "-\n",
            "Run 2: Once upon a time, our tribe was so peaceful, she\n",
            "could not understand how it was. “What is this, Nellie?” said she,\n",
            "“this is the one that you have brought me to.”\n",
            "\n",
            "Her mind was\n",
            "Run 3: Once upon a time, as\n",
            "you are about to be baptized, be assured that the baptizer that we are\n",
            "going to choose is an angel who is like your Lord, having given him\n",
            "this command from before the time of creation,\n",
            "Run 4: Once upon a time, a group of men gathered and called upon the Lord as they prayed.\n",
            "They were not as the bandage that would cure wounds. They had lost their sense, they had been weakened, their spirits were dead. It\n",
            "Run 5: Once upon a time, the human race had no right to live in fear. That is because fear only protects against something less beneficial for human survival. Yet, human history suggests that fear leads to insalubrious conditions. Fear not only brings about\n",
            "\n",
            "Evaluation Results:\n",
            "   Model  Perplexity  Diversity  Inference Time (s)  TOPSIS Score  Rank\n",
            "0  GPT-2   21.130859   0.641509            2.633090      0.571233     1\n",
            "1  XLNet    6.198478   0.302013            9.015829      0.441687     2\n",
            "2  Bloom   17.175006   0.671717           10.154565      0.438609     3\n",
            "\n",
            "Results saved to 'topsis_results.csv'.\n"
          ]
        },
        {
          "output_type": "display_data",
          "data": {
            "text/plain": [
              "<Figure size 800x500 with 1 Axes>"
            ],
            "image/png": "[encoded data removed]"
          },
          "metadata": {}
        }
      ]
    }
  ]
}